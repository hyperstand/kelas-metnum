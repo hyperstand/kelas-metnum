{
 "cells": [
  {
   "cell_type": "code",
   "execution_count": 1,
   "metadata": {},
   "outputs": [],
   "source": [
    "from __future__ import division\n",
    "import numpy as np\n",
    "import matplotlib.pyplot as plt\n",
    "%matplotlib inline"
   ]
  },
  {
   "cell_type": "code",
   "execution_count": 2,
   "metadata": {},
   "outputs": [],
   "source": [
    "def hitung_error(nilai_sekarang,nilai_sebelumnya):\n",
    "    return abs(nilai_sekarang - nilai_sebelumnya)/nilai_sekarang * 100"
   ]
  },
  {
   "cell_type": "code",
   "execution_count": 3,
   "metadata": {},
   "outputs": [],
   "source": [
    "f = lambda x : x * np.exp(-x / 2) - 0.5"
   ]
  },
  {
   "cell_type": "code",
   "execution_count": 20,
   "metadata": {},
   "outputs": [],
   "source": [
    "def Metode_secant(f,xi,xu,es):#xu xi-1\n",
    "    aHasil=[]\n",
    "    aError=[]\n",
    "    error=100\n",
    "    i=0\n",
    "    \n",
    "    while (error > es):\n",
    "            data_append=xi-((f(xi)*(xu-xi))/(f(xu)-f(xi)))\n",
    "            xu=xi\n",
    "            xi=data_append\n",
    "            aHasil.append(data_append)\n",
    "            if(i!=0):\n",
    "                error=hitung_error(aHasil[i],aHasil[i-1])\n",
    "                aError.append(error)\n",
    "                \n",
    "\n",
    "            i += 1\n",
    "\n",
    "\n",
    "            \n",
    "    \n",
    "    \n",
    "    return (aHasil,aError,i)\n",
    "    "
   ]
  },
  {
   "cell_type": "code",
   "execution_count": 22,
   "metadata": {},
   "outputs": [
    {
     "name": "stdout",
     "output_type": "stream",
     "text": [
      "[0.8243606353500641, 0.6914164366338779, 0.7164965897646728, 0.7148309806599156]\n",
      "[19.227804210645846, 3.500386950764453, 0.23300740312340174]\n",
      "4\n"
     ]
    }
   ],
   "source": [
    "(hasil,error,i)=Metode_secant(f,1,0,0.5)\n",
    "print (hasil)\n",
    "print (error)\n",
    "print(i)"
   ]
  },
  {
   "cell_type": "code",
   "execution_count": 23,
   "metadata": {},
   "outputs": [
    {
     "data": {
      "text/plain": [
       "8"
      ]
     },
     "execution_count": 23,
     "metadata": {},
     "output_type": "execute_result"
    }
   ],
   "source": [
    "Data_Pupuk=[12,25,35,50,70,85,90,110]\n",
    "Data_Padi=[3.6501,32.8507,90.0887,262.5707,720.3967,1289.779,1531.023,2795.249]"
   ]
  },
  {
   "cell_type": "code",
   "execution_count": null,
   "metadata": {},
   "outputs": [],
   "source": [
    "def InterPolasi_Linear():\n",
    "    aHasil=[]\n",
    "    aError=[]\n",
    "\n",
    "    \n",
    "    "
   ]
  }
 ],
 "metadata": {
  "kernelspec": {
   "display_name": "Python 3",
   "language": "python",
   "name": "python3"
  },
  "language_info": {
   "codemirror_mode": {
    "name": "ipython",
    "version": 3
   },
   "file_extension": ".py",
   "mimetype": "text/x-python",
   "name": "python",
   "nbconvert_exporter": "python",
   "pygments_lexer": "ipython3",
   "version": "3.7.0"
  }
 },
 "nbformat": 4,
 "nbformat_minor": 2
}
